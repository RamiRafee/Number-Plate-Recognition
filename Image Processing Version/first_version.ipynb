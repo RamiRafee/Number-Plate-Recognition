{
 "cells": [
  {
   "cell_type": "code",
   "execution_count": 21,
   "id": "295ef724",
   "metadata": {},
   "outputs": [],
   "source": [
    "#pip install OpenCV-Python\n",
    "#pip install scikit-image\n",
    "#pip install opencv-contrib-python\n",
    "#pip install imutils\n",
    "#pip install pytesseract\n"
   ]
  },
  {
   "attachments": {},
   "cell_type": "markdown",
   "id": "660ba0a0",
   "metadata": {},
   "source": [
    "## Implementing  code with OpenCV and Python\n"
   ]
  },
  {
   "cell_type": "code",
   "execution_count": 2,
   "id": "c139c56d",
   "metadata": {},
   "outputs": [],
   "source": [
    "from skimage.segmentation import clear_border\n",
    "import pytesseract\n",
    "import numpy as np\n",
    "import imutils\n",
    "import cv2\n",
    "import pandas as pd\n",
    "import time"
   ]
  },
  {
   "cell_type": "code",
   "execution_count": 19,
   "id": "13862dfb",
   "metadata": {},
   "outputs": [],
   "source": [
    "pytesseract.pytesseract.tesseract_cmd = 'C:\\\\Program Files\\\\Tesseract-OCR\\\\tesseract.exe'\n",
    "image = cv2.imread(\"car.png\")"
   ]
  },
  {
   "cell_type": "code",
   "execution_count": 20,
   "id": "9ef69def",
   "metadata": {},
   "outputs": [
    {
     "name": "stdout",
     "output_type": "stream",
     "text": [
      "300 SL 1957\n",
      "\n"
     ]
    },
    {
     "data": {
      "text/plain": [
       "-1"
      ]
     },
     "execution_count": 20,
     "metadata": {},
     "output_type": "execute_result"
    }
   ],
   "source": [
    "image = imutils.resize(image, width=500)\n",
    "\n",
    "cv2.imshow(\"Original Image\", image)\n",
    "cv2.waitKey(0)\n",
    "gray = cv2.cvtColor(image, cv2.COLOR_BGR2GRAY)\n",
    "cv2.imshow(\"1 - Grayscale Conversion\", gray)\n",
    "cv2.waitKey(0)\n",
    "gray = cv2.bilateralFilter(gray, 11, 17, 17)\n",
    "cv2.imshow(\"2 - Bilateral Filter\", gray)\n",
    "cv2.waitKey(0)\n",
    "edged = cv2.Canny(gray, 170, 200)\n",
    "cv2.imshow(\"4 - Canny Edges\", edged)\n",
    "cv2.waitKey(0)\n",
    "cnts ,new= cv2.findContours(\n",
    "    edged.copy(), cv2.RETR_LIST, cv2.CHAIN_APPROX_SIMPLE)\n",
    "\n",
    "cnts = sorted(cnts, key=cv2.contourArea, reverse=True)[:30]  \n",
    "\n",
    "\n",
    "NumberPlateCnt = None\n",
    "\n",
    "count = 0\n",
    "for c in cnts:\n",
    "    peri = cv2.arcLength(c, True)\n",
    "    approx = cv2.approxPolyDP(c, 0.02 * peri, True)\n",
    "    if len(approx) == 4:\n",
    "        NumberPlateCnt = approx\n",
    "        break\n",
    "\n",
    "# Masking the part other than the number plate\n",
    "mask = np.zeros(gray.shape, np.uint8)\n",
    "new_image = cv2.drawContours(mask, [NumberPlateCnt], 0, 255, -1)\n",
    "new_image = cv2.bitwise_and(image, image, mask=mask)\n",
    "cv2.namedWindow(\"Final_image\", cv2.WINDOW_NORMAL)\n",
    "cv2.imshow(\"Final_image\", new_image)\n",
    "cv2.waitKey(0)\n",
    "# Configuration for tesseract\n",
    "config = ('-l eng --oem 1 --psm 3')\n",
    "\n",
    "# Run tesseract OCR on image\n",
    "text = pytesseract.image_to_string(new_image, config=config)\n",
    "\n",
    "# Print recognized text\n",
    "print(text)\n",
    "\n",
    "cv2.waitKey(0)"
   ]
  },
  {
   "cell_type": "code",
   "execution_count": null,
   "id": "2519f60c",
   "metadata": {},
   "outputs": [],
   "source": []
  }
 ],
 "metadata": {
  "kernelspec": {
   "display_name": "Python 3 (ipykernel)",
   "language": "python",
   "name": "python3"
  },
  "language_info": {
   "codemirror_mode": {
    "name": "ipython",
    "version": 3
   },
   "file_extension": ".py",
   "mimetype": "text/x-python",
   "name": "python",
   "nbconvert_exporter": "python",
   "pygments_lexer": "ipython3",
   "version": "3.10.7"
  }
 },
 "nbformat": 4,
 "nbformat_minor": 5
}
